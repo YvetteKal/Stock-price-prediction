{
 "cells": [
  {
   "cell_type": "code",
   "execution_count": 23,
   "id": "b67ff7c5",
   "metadata": {},
   "outputs": [],
   "source": [
    "import numpy as np\n",
    "import pandas as pd \n",
    "\n",
    "import yfinance as yf\n",
    "\n",
    "import seaborn as sns\n",
    "import matplotlib.pyplot as plt\n",
    "%matplotlib inline"
   ]
  },
  {
   "cell_type": "code",
   "execution_count": 24,
   "id": "4ba2d665",
   "metadata": {
    "scrolled": true
   },
   "outputs": [
    {
     "name": "stdout",
     "output_type": "stream",
     "text": [
      "Enter the code of the stock: -NG=F\n",
      "[*********************100%***********************]  1 of 1 completed\n"
     ]
    },
    {
     "data": {
      "text/html": [
       "<div>\n",
       "<style scoped>\n",
       "    .dataframe tbody tr th:only-of-type {\n",
       "        vertical-align: middle;\n",
       "    }\n",
       "\n",
       "    .dataframe tbody tr th {\n",
       "        vertical-align: top;\n",
       "    }\n",
       "\n",
       "    .dataframe thead th {\n",
       "        text-align: right;\n",
       "    }\n",
       "</style>\n",
       "<table border=\"1\" class=\"dataframe\">\n",
       "  <thead>\n",
       "    <tr style=\"text-align: right;\">\n",
       "      <th></th>\n",
       "      <th>Open</th>\n",
       "      <th>High</th>\n",
       "      <th>Low</th>\n",
       "      <th>Close</th>\n",
       "      <th>Volume</th>\n",
       "    </tr>\n",
       "    <tr>\n",
       "      <th>Date</th>\n",
       "      <th></th>\n",
       "      <th></th>\n",
       "      <th></th>\n",
       "      <th></th>\n",
       "      <th></th>\n",
       "    </tr>\n",
       "  </thead>\n",
       "  <tbody>\n",
       "    <tr>\n",
       "      <th>2007-12-31</th>\n",
       "      <td>7.349</td>\n",
       "      <td>7.540</td>\n",
       "      <td>7.283</td>\n",
       "      <td>7.483</td>\n",
       "      <td>27299</td>\n",
       "    </tr>\n",
       "    <tr>\n",
       "      <th>2008-01-02</th>\n",
       "      <td>7.572</td>\n",
       "      <td>7.876</td>\n",
       "      <td>7.564</td>\n",
       "      <td>7.850</td>\n",
       "      <td>68553</td>\n",
       "    </tr>\n",
       "    <tr>\n",
       "      <th>2008-01-03</th>\n",
       "      <td>7.873</td>\n",
       "      <td>7.980</td>\n",
       "      <td>7.610</td>\n",
       "      <td>7.674</td>\n",
       "      <td>72742</td>\n",
       "    </tr>\n",
       "    <tr>\n",
       "      <th>2008-01-04</th>\n",
       "      <td>7.652</td>\n",
       "      <td>7.859</td>\n",
       "      <td>7.500</td>\n",
       "      <td>7.841</td>\n",
       "      <td>61496</td>\n",
       "    </tr>\n",
       "    <tr>\n",
       "      <th>2008-01-07</th>\n",
       "      <td>7.803</td>\n",
       "      <td>7.940</td>\n",
       "      <td>7.701</td>\n",
       "      <td>7.879</td>\n",
       "      <td>56675</td>\n",
       "    </tr>\n",
       "    <tr>\n",
       "      <th>...</th>\n",
       "      <td>...</td>\n",
       "      <td>...</td>\n",
       "      <td>...</td>\n",
       "      <td>...</td>\n",
       "      <td>...</td>\n",
       "    </tr>\n",
       "    <tr>\n",
       "      <th>2021-01-11</th>\n",
       "      <td>2.600</td>\n",
       "      <td>2.811</td>\n",
       "      <td>2.589</td>\n",
       "      <td>2.747</td>\n",
       "      <td>177248</td>\n",
       "    </tr>\n",
       "    <tr>\n",
       "      <th>2021-01-12</th>\n",
       "      <td>2.794</td>\n",
       "      <td>2.899</td>\n",
       "      <td>2.718</td>\n",
       "      <td>2.753</td>\n",
       "      <td>201432</td>\n",
       "    </tr>\n",
       "    <tr>\n",
       "      <th>2021-01-13</th>\n",
       "      <td>2.737</td>\n",
       "      <td>2.826</td>\n",
       "      <td>2.708</td>\n",
       "      <td>2.727</td>\n",
       "      <td>169240</td>\n",
       "    </tr>\n",
       "    <tr>\n",
       "      <th>2021-01-14</th>\n",
       "      <td>2.742</td>\n",
       "      <td>2.791</td>\n",
       "      <td>2.660</td>\n",
       "      <td>2.666</td>\n",
       "      <td>163043</td>\n",
       "    </tr>\n",
       "    <tr>\n",
       "      <th>2021-01-15</th>\n",
       "      <td>2.672</td>\n",
       "      <td>2.800</td>\n",
       "      <td>2.636</td>\n",
       "      <td>2.737</td>\n",
       "      <td>150994</td>\n",
       "    </tr>\n",
       "  </tbody>\n",
       "</table>\n",
       "<p>3283 rows × 5 columns</p>\n",
       "</div>"
      ],
      "text/plain": [
       "             Open   High    Low  Close  Volume\n",
       "Date                                          \n",
       "2007-12-31  7.349  7.540  7.283  7.483   27299\n",
       "2008-01-02  7.572  7.876  7.564  7.850   68553\n",
       "2008-01-03  7.873  7.980  7.610  7.674   72742\n",
       "2008-01-04  7.652  7.859  7.500  7.841   61496\n",
       "2008-01-07  7.803  7.940  7.701  7.879   56675\n",
       "...           ...    ...    ...    ...     ...\n",
       "2021-01-11  2.600  2.811  2.589  2.747  177248\n",
       "2021-01-12  2.794  2.899  2.718  2.753  201432\n",
       "2021-01-13  2.737  2.826  2.708  2.727  169240\n",
       "2021-01-14  2.742  2.791  2.660  2.666  163043\n",
       "2021-01-15  2.672  2.800  2.636  2.737  150994\n",
       "\n",
       "[3283 rows x 5 columns]"
      ]
     },
     "execution_count": 24,
     "metadata": {},
     "output_type": "execute_result"
    }
   ],
   "source": [
    "stocks = input(\"Enter the code of the stock: -\")\n",
    "data = yf.download(stocks, \"2008-01-01\", \"2021-01-18\", auto_adjust=True)\n",
    "data"
   ]
  },
  {
   "cell_type": "code",
   "execution_count": 25,
   "id": "fe3b34fb",
   "metadata": {
    "scrolled": true
   },
   "outputs": [
    {
     "data": {
      "text/plain": [
       "(3283, 5)"
      ]
     },
     "execution_count": 25,
     "metadata": {},
     "output_type": "execute_result"
    }
   ],
   "source": [
    "data.shape"
   ]
  },
  {
   "cell_type": "code",
   "execution_count": 26,
   "id": "85c486f6",
   "metadata": {},
   "outputs": [
    {
     "name": "stdout",
     "output_type": "stream",
     "text": [
      "<class 'pandas.core.frame.DataFrame'>\n",
      "DatetimeIndex: 3283 entries, 2007-12-31 to 2021-01-15\n",
      "Data columns (total 5 columns):\n",
      " #   Column  Non-Null Count  Dtype  \n",
      "---  ------  --------------  -----  \n",
      " 0   Open    3283 non-null   float64\n",
      " 1   High    3283 non-null   float64\n",
      " 2   Low     3283 non-null   float64\n",
      " 3   Close   3283 non-null   float64\n",
      " 4   Volume  3283 non-null   int64  \n",
      "dtypes: float64(4), int64(1)\n",
      "memory usage: 153.9 KB\n"
     ]
    }
   ],
   "source": [
    "data.info()"
   ]
  },
  {
   "cell_type": "code",
   "execution_count": 27,
   "id": "dc5e1b32",
   "metadata": {},
   "outputs": [
    {
     "data": {
      "text/html": [
       "<div>\n",
       "<style scoped>\n",
       "    .dataframe tbody tr th:only-of-type {\n",
       "        vertical-align: middle;\n",
       "    }\n",
       "\n",
       "    .dataframe tbody tr th {\n",
       "        vertical-align: top;\n",
       "    }\n",
       "\n",
       "    .dataframe thead th {\n",
       "        text-align: right;\n",
       "    }\n",
       "</style>\n",
       "<table border=\"1\" class=\"dataframe\">\n",
       "  <thead>\n",
       "    <tr style=\"text-align: right;\">\n",
       "      <th></th>\n",
       "      <th>Open</th>\n",
       "      <th>High</th>\n",
       "      <th>Low</th>\n",
       "      <th>Close</th>\n",
       "      <th>Volume</th>\n",
       "    </tr>\n",
       "  </thead>\n",
       "  <tbody>\n",
       "    <tr>\n",
       "      <th>count</th>\n",
       "      <td>3283.000000</td>\n",
       "      <td>3283.000000</td>\n",
       "      <td>3283.000000</td>\n",
       "      <td>3283.000000</td>\n",
       "      <td>3283.000000</td>\n",
       "    </tr>\n",
       "    <tr>\n",
       "      <th>mean</th>\n",
       "      <td>3.714812</td>\n",
       "      <td>3.788431</td>\n",
       "      <td>3.636149</td>\n",
       "      <td>3.708224</td>\n",
       "      <td>131365.895218</td>\n",
       "    </tr>\n",
       "    <tr>\n",
       "      <th>std</th>\n",
       "      <td>1.831245</td>\n",
       "      <td>1.866609</td>\n",
       "      <td>1.790444</td>\n",
       "      <td>1.826208</td>\n",
       "      <td>54415.091229</td>\n",
       "    </tr>\n",
       "    <tr>\n",
       "      <th>min</th>\n",
       "      <td>1.441000</td>\n",
       "      <td>1.567000</td>\n",
       "      <td>1.432000</td>\n",
       "      <td>1.482000</td>\n",
       "      <td>0.000000</td>\n",
       "    </tr>\n",
       "    <tr>\n",
       "      <th>25%</th>\n",
       "      <td>2.691500</td>\n",
       "      <td>2.737000</td>\n",
       "      <td>2.644000</td>\n",
       "      <td>2.693000</td>\n",
       "      <td>91735.000000</td>\n",
       "    </tr>\n",
       "    <tr>\n",
       "      <th>50%</th>\n",
       "      <td>3.253000</td>\n",
       "      <td>3.313000</td>\n",
       "      <td>3.184000</td>\n",
       "      <td>3.242000</td>\n",
       "      <td>126609.000000</td>\n",
       "    </tr>\n",
       "    <tr>\n",
       "      <th>75%</th>\n",
       "      <td>4.158500</td>\n",
       "      <td>4.245000</td>\n",
       "      <td>4.068000</td>\n",
       "      <td>4.153000</td>\n",
       "      <td>161479.000000</td>\n",
       "    </tr>\n",
       "    <tr>\n",
       "      <th>max</th>\n",
       "      <td>13.580000</td>\n",
       "      <td>13.694000</td>\n",
       "      <td>13.306000</td>\n",
       "      <td>13.577000</td>\n",
       "      <td>459196.000000</td>\n",
       "    </tr>\n",
       "  </tbody>\n",
       "</table>\n",
       "</div>"
      ],
      "text/plain": [
       "              Open         High          Low        Close         Volume\n",
       "count  3283.000000  3283.000000  3283.000000  3283.000000    3283.000000\n",
       "mean      3.714812     3.788431     3.636149     3.708224  131365.895218\n",
       "std       1.831245     1.866609     1.790444     1.826208   54415.091229\n",
       "min       1.441000     1.567000     1.432000     1.482000       0.000000\n",
       "25%       2.691500     2.737000     2.644000     2.693000   91735.000000\n",
       "50%       3.253000     3.313000     3.184000     3.242000  126609.000000\n",
       "75%       4.158500     4.245000     4.068000     4.153000  161479.000000\n",
       "max      13.580000    13.694000    13.306000    13.577000  459196.000000"
      ]
     },
     "execution_count": 27,
     "metadata": {},
     "output_type": "execute_result"
    }
   ],
   "source": [
    "data.describe()"
   ]
  },
  {
   "cell_type": "code",
   "execution_count": 28,
   "id": "4768c89c",
   "metadata": {},
   "outputs": [
    {
     "data": {
      "image/png": "[encoded data removed]",
      "text/plain": [
       "<Figure size 720x504 with 1 Axes>"
      ]
     },
     "metadata": {
      "needs_background": "light"
     },
     "output_type": "display_data"
    }
   ],
   "source": [
    "#DATA ANALYSIS\n",
    "\n",
    "data.Close.plot(figsize=(10, 7), color='r')\n",
    "plt.ylabel('{} Prices'.format(stocks))\n",
    "plt.title('{} Price series'.format(stocks))\n",
    "plt.show()"
   ]
  },
  {
   "cell_type": "code",
   "execution_count": 29,
   "id": "b66829bf",
   "metadata": {},
   "outputs": [
    {
     "name": "stderr",
     "output_type": "stream",
     "text": [
      "/home/yvette/anaconda3/lib/python3.9/site-packages/seaborn/distributions.py:2619: FutureWarning: `distplot` is a deprecated function and will be removed in a future version. Please adapt your code to use either `displot` (a figure-level function with similar flexibility) or `histplot` (an axes-level function for histograms).\n",
      "  warnings.warn(msg, FutureWarning)\n"
     ]
    },
    {
     "data": {
      "text/plain": [
       "<AxesSubplot:xlabel='Open', ylabel='Density'>"
      ]
     },
     "execution_count": 29,
     "metadata": {},
     "output_type": "execute_result"
    },
    {
     "data": {
      "image/png": "[encoded data removed]",
      "text/plain": [
       "<Figure size 432x288 with 1 Axes>"
      ]
     },
     "metadata": {
      "needs_background": "light"
     },
     "output_type": "display_data"
    }
   ],
   "source": [
    "sns.distplot(data['Open'])"
   ]
  },
  {
   "cell_type": "code",
   "execution_count": 30,
   "id": "42d7482c",
   "metadata": {},
   "outputs": [
    {
     "name": "stderr",
     "output_type": "stream",
     "text": [
      "/home/yvette/anaconda3/lib/python3.9/site-packages/seaborn/distributions.py:2619: FutureWarning: `distplot` is a deprecated function and will be removed in a future version. Please adapt your code to use either `displot` (a figure-level function with similar flexibility) or `histplot` (an axes-level function for histograms).\n",
      "  warnings.warn(msg, FutureWarning)\n"
     ]
    },
    {
     "data": {
      "text/plain": [
       "<AxesSubplot:xlabel='Close', ylabel='Density'>"
      ]
     },
     "execution_count": 30,
     "metadata": {},
     "output_type": "execute_result"
    },
    {
     "data": {
      "image/png": "[encoded data removed]",
      "text/plain": [
       "<Figure size 432x288 with 1 Axes>"
      ]
     },
     "metadata": {
      "needs_background": "light"
     },
     "output_type": "display_data"
    }
   ],
   "source": [
    "sns.distplot(data['Close'])"
   ]
  },
  {
   "cell_type": "code",
   "execution_count": 31,
   "id": "6e693b9e",
   "metadata": {},
   "outputs": [
    {
     "name": "stderr",
     "output_type": "stream",
     "text": [
      "/home/yvette/anaconda3/lib/python3.9/site-packages/seaborn/distributions.py:2619: FutureWarning: `distplot` is a deprecated function and will be removed in a future version. Please adapt your code to use either `displot` (a figure-level function with similar flexibility) or `histplot` (an axes-level function for histograms).\n",
      "  warnings.warn(msg, FutureWarning)\n"
     ]
    },
    {
     "data": {
      "text/plain": [
       "<AxesSubplot:xlabel='High', ylabel='Density'>"
      ]
     },
     "execution_count": 31,
     "metadata": {},
     "output_type": "execute_result"
    },
    {
     "data": {
      "image/png": "[encoded data removed]",
      "text/plain": [
       "<Figure size 432x288 with 1 Axes>"
      ]
     },
     "metadata": {
      "needs_background": "light"
     },
     "output_type": "display_data"
    }
   ],
   "source": [
    "sns.distplot(data['High'])"
   ]
  },
  {
   "cell_type": "code",
   "execution_count": 32,
   "id": "d5901f55",
   "metadata": {},
   "outputs": [],
   "source": [
    "#conclusions\n",
    "# we have understood\n",
    "# - The shape of the data\n",
    "# - How our data is distributed\n",
    "# - Its very very non linear\n",
    "\n",
    "# linear,logistic, regularized, SVM, PCA (Principal Command Analysis), "
   ]
  },
  {
   "cell_type": "code",
   "execution_count": 33,
   "id": "09fe4aac",
   "metadata": {},
   "outputs": [
    {
     "data": {
      "image/png": "[encoded data removed]",
      "text/plain": [
       "<Figure size 432x288 with 1 Axes>"
      ]
     },
     "metadata": {
      "needs_background": "light"
     },
     "output_type": "display_data"
    }
   ],
   "source": [
    "from scipy import stats\n",
    "\n",
    "\n",
    "#get also the QQ-plot\n",
    "fig = plt.figure()\n",
    "res = stats.probplot(data['Volume'], plot=plt)\n",
    "plt.show()"
   ]
  },
  {
   "cell_type": "code",
   "execution_count": 34,
   "id": "479ed145",
   "metadata": {},
   "outputs": [
    {
     "name": "stdout",
     "output_type": "stream",
     "text": [
      "(2626, 4)\n",
      "(657, 4)\n",
      "(2626,)\n",
      "(657,)\n"
     ]
    }
   ],
   "source": [
    "    # 1.linea  regresion\n",
    "#     --------------------\n",
    "\n",
    "from sklearn.model_selection import train_test_split\n",
    "\n",
    "X = data.drop(\"Close\", axis=1)\n",
    "y = data[\"Close\"]\n",
    "X_train, X_test, y_train, y_test = train_test_split(X, y, test_size=0.2, random_state=0)\n",
    "\n",
    "print(X_train.shape)\n",
    "print(X_test.shape)\n",
    "print(y_train.shape)\n",
    "print(y_test.shape)"
   ]
  },
  {
   "cell_type": "code",
   "execution_count": 35,
   "id": "6cfb16d3",
   "metadata": {},
   "outputs": [
    {
     "data": {
      "text/plain": [
       "array([ 2.69263125,  5.62775289,  2.67593446,  5.70059119,  3.7941102 ,\n",
       "       13.2233934 ,  3.96973992,  1.84058023,  1.79578996,  1.92988411,\n",
       "        2.48501196,  3.27902664,  2.87223557,  2.97788951,  4.26721237,\n",
       "        2.57749429,  3.44524095,  2.72173285,  9.00107585,  3.61963762,\n",
       "        1.7802419 ,  2.66344549,  2.54589019,  2.91238601,  2.3834322 ,\n",
       "        3.21828194,  3.68985393,  3.88874655,  2.89436113,  1.82668276,\n",
       "        4.02022772,  2.99235628, 11.50173894,  4.37936147,  4.42032125,\n",
       "        2.6264692 ,  3.52318183,  5.47030452,  3.79465214,  3.42236918,\n",
       "        3.97028677,  2.70335735,  1.87448306,  2.6098818 ,  1.92071192,\n",
       "        1.74599183,  4.21605553,  2.98374319,  3.85474126,  1.99358448,\n",
       "        4.08094844,  3.5786507 ,  2.48258324,  4.10339979,  1.92736655,\n",
       "        3.23535888,  4.54311568,  5.059409  ,  1.85311728,  3.27418655,\n",
       "        2.92296426,  4.0916382 ,  4.79600944,  2.70006357,  4.825725  ,\n",
       "        2.20432073,  4.3684868 ,  3.08206643,  2.83099057,  2.11235998,\n",
       "        4.75093495,  2.72114503,  1.8452126 ,  3.47763478,  8.15124536,\n",
       "        3.27627993,  4.66440381,  4.37075016,  3.94807359,  1.7801768 ,\n",
       "        2.9604658 ,  2.18229184,  7.7437557 ,  3.31674087,  2.76353212,\n",
       "        2.51273981,  2.94634125,  3.75838362,  4.34972827,  2.58462476,\n",
       "        3.80664478, 12.78210315,  3.40247751,  3.69374302,  3.84054268,\n",
       "        2.96168768,  4.32976866,  3.02823601,  2.80991576,  3.02461798,\n",
       "        2.80116096,  3.67890104,  3.9291812 ,  2.94410713,  3.15704388,\n",
       "        3.00145004,  2.60681146,  2.8230724 ,  2.96157101,  3.94586823,\n",
       "        6.53600547,  3.77081291,  3.55493811,  3.01197155,  1.86472129,\n",
       "        4.71636443,  3.98662261,  2.78078605,  3.48795702,  3.29710752,\n",
       "        2.92801018,  5.38995093,  2.54415417,  2.61119496,  2.94574615,\n",
       "        2.1791503 ,  4.57429678,  4.85289852,  4.20437508,  4.07809458,\n",
       "        3.29207106,  6.75071844,  4.46819402,  4.29887048,  3.60287405,\n",
       "        3.04495912,  3.93141485,  3.61737897,  1.98399334,  4.01759467,\n",
       "        3.14192363,  3.11339706,  5.80707517,  2.81026661,  2.82272751,\n",
       "        1.70956776,  4.64475276,  3.57220749,  2.94999446,  2.66348289,\n",
       "        5.11506314,  2.95028482,  2.15295537,  4.44829416,  1.76683133,\n",
       "        3.83791297,  2.89211264,  2.91873604,  4.65221325,  3.52043641,\n",
       "        4.31626134,  2.22633559,  2.26580034,  4.24117769,  3.28151609,\n",
       "        4.13469213,  3.74155747,  1.97077745,  7.06518007,  2.90255427,\n",
       "        3.13528062,  2.8148709 ,  2.94799889,  3.24125875,  3.76657391,\n",
       "        1.71472526,  3.71459301,  3.23424423,  2.49481248,  8.47304265,\n",
       "        2.82664857,  2.77202881,  2.68792974,  4.57871753,  3.94608746,\n",
       "        4.07075111,  1.73360388,  2.96914447,  2.96053767,  9.21240026,\n",
       "        3.71872805,  2.74372834,  2.72100607,  2.73893243,  2.14488721,\n",
       "        7.35955032,  3.84807495,  4.6559933 ,  2.73548645,  4.00357704,\n",
       "        2.79618724,  5.55893101,  3.40187389,  4.03585322,  2.93376297,\n",
       "        3.48473091,  2.56764611,  5.4739742 ,  4.33055361,  3.97860179,\n",
       "        4.52445234,  3.78430412,  3.5653619 ,  3.50142408,  3.32264688,\n",
       "        4.48591992,  3.5748099 ,  2.66943589,  3.19682407,  5.5111509 ,\n",
       "        3.60855861,  3.12593547,  3.88950935,  3.20592302,  4.43404027,\n",
       "        2.9332214 ,  5.1212414 ,  2.88685078,  4.40379024,  3.23659438,\n",
       "        4.10642175,  3.15897615,  4.64957811,  3.08175885,  4.68034476,\n",
       "        3.95066788,  4.12795934,  1.77880539,  2.25160899,  2.58551459,\n",
       "        4.22983557,  4.97656147,  3.73547013,  2.08976424,  2.07064399,\n",
       "        4.03330542,  3.07499069,  4.30398807,  2.29876236,  4.31782731,\n",
       "        4.73646757,  2.89213427,  3.30295063,  3.69031917,  2.07210804,\n",
       "        2.88621718,  3.97591385,  6.32236114,  3.32695807,  3.87840711,\n",
       "        2.90414675,  2.81205206,  4.07484616,  4.22716026,  8.39839553,\n",
       "        6.60021761,  2.55215117, 13.34293677,  2.60745608,  4.04698994,\n",
       "        2.30977778,  3.96666093,  3.87204437,  2.82158449,  3.8625536 ,\n",
       "       11.75015584,  3.78338739,  3.82087472,  4.40479957,  2.77752016,\n",
       "        3.28632968,  3.98217795,  3.98193099,  2.96039698,  9.98427326,\n",
       "        2.76225047,  2.38188438,  4.05591524,  3.73665695,  3.1497263 ,\n",
       "        3.3613097 ,  4.2769664 ,  4.34477488,  2.27311102,  2.98493905,\n",
       "        4.3879116 ,  3.52126325,  5.72260846,  7.2965392 ,  2.70846244,\n",
       "        2.44772923,  2.55713581,  3.46440472,  4.38341315,  2.33625483,\n",
       "        1.85079796,  8.96054982,  2.10801728,  3.12209272,  2.55385147,\n",
       "        2.53615152,  2.68949614,  2.11909378,  2.03776585,  2.93492933,\n",
       "        3.95663504,  3.03856724,  6.43531464,  3.92745879,  2.34580984,\n",
       "        4.12853372,  1.96691292,  2.81688928,  3.47250985,  3.55112856,\n",
       "        2.26315654,  3.62130821,  3.83692295,  3.59364401,  7.81899611,\n",
       "        3.98230358,  2.16474283,  2.79023328,  5.52855817,  2.82906961,\n",
       "        4.874449  ,  4.25498042,  2.89095003,  4.21534073,  1.97054018,\n",
       "        3.70926773,  2.31789569,  4.04572275,  2.97669492,  4.39921516,\n",
       "        4.46249996,  2.21549193,  4.86798171,  2.41025663,  1.96509123,\n",
       "        2.87610129,  4.57457212,  3.58842225,  3.78785189,  4.60094397,\n",
       "        4.39758843,  2.6536434 ,  2.76057985,  1.66075829,  2.61946794,\n",
       "        4.77746459,  2.2009913 ,  3.41054176,  2.94076186,  2.78479744,\n",
       "        7.93068918,  4.27709399,  6.46410845,  2.81984005,  3.03946281,\n",
       "        3.60755107,  9.94496426,  4.23774276,  2.95180264,  4.84198943,\n",
       "        2.73547588,  4.21568758,  4.62326964,  2.4521481 ,  2.9149691 ,\n",
       "        4.04004225,  2.85408128,  3.38700412,  2.32790531,  3.96092807,\n",
       "        4.15057039,  2.55438253,  4.53788473,  2.27552434,  4.44338235,\n",
       "        2.704272  ,  3.00881925,  2.12651465,  1.79032557,  2.9968231 ,\n",
       "        2.93271611,  4.68457187,  2.94357938,  1.81105436,  3.86450364,\n",
       "        3.12097303,  3.20666927,  2.82928916,  3.26020703,  3.62857038,\n",
       "        4.36317099,  3.14874799,  2.51882218,  3.75890374,  4.49069406,\n",
       "        2.6321197 ,  2.96384698,  2.71894112,  7.90361328,  3.49016249,\n",
       "        2.86031142,  3.95343263,  4.86355483,  2.10823829,  3.37154935,\n",
       "        3.01756679,  2.70726486, 10.70334405,  3.75456139,  2.34626702,\n",
       "        5.91958853,  6.8944362 ,  4.3802382 ,  2.89847986,  2.25180349,\n",
       "        4.43317986,  7.83387346,  3.57519889,  2.65198122,  2.66013604,\n",
       "        6.75799157,  2.59976025,  2.80282384,  3.44393384,  3.64330147,\n",
       "        2.72223458,  2.75834724,  2.66726028,  7.59435969,  2.87600989,\n",
       "        1.95989823,  4.84420716,  3.60662308,  2.5841773 ,  2.87491429,\n",
       "        2.59878202,  2.65034392,  2.70587956,  3.6526978 ,  3.95562043,\n",
       "        4.01988477,  4.00431123,  2.89211561,  2.81934851,  2.00042819,\n",
       "        3.83141564,  2.15668752,  3.61598605,  2.8822232 ,  3.93619865,\n",
       "        2.65149642,  2.40936364,  2.67368316,  2.59761909,  2.93649228,\n",
       "        2.5753886 ,  3.25751636,  2.77535572,  2.32164973,  2.05880725,\n",
       "        2.50259036,  3.06903066,  3.86087037,  7.4789286 ,  3.9327559 ,\n",
       "        2.72626504,  5.04413551,  1.80602281,  3.19951972,  4.69324079,\n",
       "        1.69591195,  1.63462727,  3.70428613,  3.3315796 ,  4.2949788 ,\n",
       "        3.92611441,  4.64599714,  2.78199457,  2.79196916,  2.64675224,\n",
       "        2.81553052,  5.12535329,  1.61966259,  2.78463447,  2.6313791 ,\n",
       "        5.73077525,  9.92777836,  3.87773547,  2.77422835,  1.8698557 ,\n",
       "        4.28844476,  3.89138756,  7.64799782,  2.01497379,  2.38721263,\n",
       "        4.03919573,  7.33183198,  3.08786612,  2.95700686,  3.93531012,\n",
       "        2.27429584,  2.01458171,  3.86187009,  2.72011342,  3.16491265,\n",
       "        2.65368031,  3.49195146,  3.54718869,  3.76027965,  2.61670259,\n",
       "        2.246432  ,  4.04642821,  2.12898876,  1.83518713,  1.73851678,\n",
       "        2.20124632,  3.30133965,  2.62322627,  3.14995048,  2.81465095,\n",
       "        4.62141695,  2.63038617,  3.4966238 ,  4.43203648,  2.61825118,\n",
       "        2.82030809,  5.3230002 ,  3.57786366,  2.80288409,  4.48885915,\n",
       "        3.56952511,  3.23247804,  4.24141489,  3.25035616,  3.81102593,\n",
       "        4.57141992,  4.06384796,  2.74713915,  5.34179226,  2.44275271,\n",
       "        2.46498244,  3.37201865,  2.03379478,  3.63674816,  2.97865293,\n",
       "        8.32294321,  2.65116623,  2.75489742,  1.6796716 ,  3.45312627,\n",
       "       10.16863675,  1.65437814,  8.44032285,  1.65610743,  3.43394218,\n",
       "        4.12342021,  4.39082182,  3.28599985,  2.51092922,  2.76738038,\n",
       "        2.97629094,  5.46641817,  1.83515553,  2.26893739,  2.76001051,\n",
       "        4.34487196,  2.04776951,  2.78081654,  3.63977676,  2.90862363,\n",
       "        2.76013609,  3.8415453 ,  1.71271753,  3.06799704,  4.77960864,\n",
       "        2.66460798,  3.6920427 ,  4.60556573,  2.21860014,  6.85276676,\n",
       "        3.81656874,  2.79697845,  3.21343344,  3.36480049,  3.88668169,\n",
       "        2.03497746,  6.05957165,  1.95544562,  3.90130379,  2.17145381,\n",
       "        3.66624385,  1.90194302,  2.53741106, 10.64420897,  2.10722093,\n",
       "        3.37802673,  4.98134894,  3.88820035,  4.02241932,  1.80635165,\n",
       "        5.48760667,  5.64316386,  1.86663116,  5.76354661,  2.96640299,\n",
       "        3.91481109,  1.89063083,  2.67218912,  2.66461257,  1.9841022 ,\n",
       "        3.52632393,  2.2958661 ,  1.83841765,  2.85374411,  4.10515696,\n",
       "        1.70948937,  3.50508871,  9.39269065,  3.58942933,  2.1717794 ,\n",
       "        3.28301604,  3.04684908,  1.70628727,  3.07131665,  2.96665319,\n",
       "        2.38074821,  4.621412  ,  8.81998949,  2.49296893,  2.520397  ,\n",
       "        3.00233642,  3.18080201,  2.39026585,  2.69501399,  5.85139026,\n",
       "        2.53198949,  3.6151183 ,  4.34982586,  3.48169889,  2.68309362,\n",
       "        2.93988027,  4.09505494])"
      ]
     },
     "execution_count": 35,
     "metadata": {},
     "output_type": "execute_result"
    }
   ],
   "source": [
    "# modeling part, limear regression\n",
    "from sklearn.linear_model import LinearRegression\n",
    "\n",
    "lr = LinearRegression()\n",
    "lr.fit(X_train, y_train)\n",
    "predictions = lr.predict(X_test)\n",
    "\n",
    "predictions\n"
   ]
  },
  {
   "cell_type": "code",
   "execution_count": 36,
   "id": "386db13f",
   "metadata": {},
   "outputs": [
    {
     "name": "stdout",
     "output_type": "stream",
     "text": [
      "Actual value of Close is:-  2.681999921798706\n",
      "Model Predicted value of Close is:-  2.69263125005433\n"
     ]
    }
   ],
   "source": [
    "print(\"Actual value of Close is:- \", y_test[0])\n",
    "print(\"Model Predicted value of Close is:- \", predictions[0])"
   ]
  },
  {
   "cell_type": "code",
   "execution_count": 37,
   "id": "b77c7ebd",
   "metadata": {},
   "outputs": [
    {
     "data": {
      "text/plain": [
       "(657,)"
      ]
     },
     "execution_count": 37,
     "metadata": {},
     "output_type": "execute_result"
    }
   ],
   "source": [
    "predictions.shape"
   ]
  },
  {
   "cell_type": "code",
   "execution_count": 40,
   "id": "12bec9e2",
   "metadata": {},
   "outputs": [
    {
     "name": "stdout",
     "output_type": "stream",
     "text": [
      "MSE:-  0.0013865447236238253\n",
      "RMSE:-  0.037236336066050126\n",
      "R2_score:-  0.999490355617278\n"
     ]
    }
   ],
   "source": [
    "# model evaluation\n",
    "from sklearn.metrics import mean_squared_error, r2_score\n",
    "\n",
    "def calculate_metrics(y_test, y_pred):\n",
    "    '''\n",
    "    \n",
    "    y_test:- ground truth\n",
    "    y_pred:- model predict\n",
    "    '''\n",
    "    \n",
    "    mse = mean_squared_error(y_test, y_pred)\n",
    "    rmse = np.sqrt(mse)\n",
    "    r2_scors = r2_score(y_test, y_pred)\n",
    "    \n",
    "    print(\"MSE:- \", mse)\n",
    "    print(\"RMSE:- \", rmse)\n",
    "    print(\"R2_score:- \", r2_scors)\n",
    "\n",
    "calculate_metrics(y_test, predictions)\n",
    "\n",
    "# from the results linear regression performs quite good as rmse and mse are almost zero and r2_score 1"
   ]
  },
  {
   "cell_type": "code",
   "execution_count": null,
   "id": "fca4d824",
   "metadata": {},
   "outputs": [],
   "source": []
  }
 ],
 "metadata": {
  "kernelspec": {
   "display_name": "Python 3 (ipykernel)",
   "language": "python",
   "name": "python3"
  },
  "language_info": {
   "codemirror_mode": {
    "name": "ipython",
    "version": 3
   },
   "file_extension": ".py",
   "mimetype": "text/x-python",
   "name": "python",
   "nbconvert_exporter": "python",
   "pygments_lexer": "ipython3",
   "version": "3.9.12"
  }
 },
 "nbformat": 4,
 "nbformat_minor": 5
}
